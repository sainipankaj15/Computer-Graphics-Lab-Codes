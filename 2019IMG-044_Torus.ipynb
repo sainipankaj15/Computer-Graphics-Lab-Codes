{
 "cells": [
  {
   "cell_type": "code",
   "execution_count": null,
   "source": [
    "import matplotlib.pyplot as plt\r\n",
    "import numpy as np\r\n",
    "\r\n",
    "a, b, c, r = 1,2,3,2\r\n",
    "\r\n",
    "plt.rcParams[\"figure.figsize\"] = [10.00, 5.00]\r\n",
    "plt.rcParams[\"figure.autolayout\"] = True\r\n",
    "fig = plt.figure()\r\n",
    "ax = fig.add_subplot(projection='3d')\r\n",
    "u, v = np.mgrid[0:2 * np.pi:30j, 0:np.pi:20j]\r\n",
    "x = 𝑎 * (𝑟 + np.sin(v))*np.cos(u)\r\n",
    "y =  𝑏 * (𝑟 + np.sin(v))*np.sin(u)\r\n",
    "z = c * np.cos(v)\r\n",
    "ax.plot_surface(x, y, z,cmap=plt.cm.YlGnBu_r)\r\n",
    "plt.show()"
   ],
   "outputs": [],
   "metadata": {}
  }
 ],
 "metadata": {
  "orig_nbformat": 4,
  "language_info": {
   "name": "python"
  }
 },
 "nbformat": 4,
 "nbformat_minor": 2
}