{
 "cells": [
  {
   "cell_type": "code",
   "execution_count": null,
   "source": [
    "\r\n",
    "import matplotlib.pyplot as plt\r\n",
    "import numpy as np\r\n",
    "\r\n",
    "a, b, c = 1,2,3\r\n",
    "\r\n",
    "plt.rcParams[\"figure.figsize\"] = [10.00, 5.00]\r\n",
    "plt.rcParams[\"figure.autolayout\"] = True\r\n",
    "fig = plt.figure()\r\n",
    "ax = fig.add_subplot(projection='3d')\r\n",
    "# r = 0.05\r\n",
    "u, v = np.mgrid[0:2 * np.pi:30j, 0:np.pi:20j]\r\n",
    "x = (np.cos(u) * np.sin(v))*a\r\n",
    "y = (np.sin(u) * np.sin(v))*b\r\n",
    "z = (np.cos(v))*c\r\n",
    "ax.plot_surface(x, y, z, cmap=plt.cm.YlGnBu_r)\r\n",
    "plt.show()\r\n"
   ],
   "outputs": [],
   "metadata": {}
  }
 ],
 "metadata": {
  "orig_nbformat": 4,
  "language_info": {
   "name": "python"
  }
 },
 "nbformat": 4,
 "nbformat_minor": 2
}