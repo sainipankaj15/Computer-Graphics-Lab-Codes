{
 "cells": [
  {
   "cell_type": "code",
   "execution_count": null,
   "metadata": {},
   "outputs": [],
   "source": [
    "import matplotlib.pyplot as plt\n",
    "import numpy as np\n",
    "a, b, c = 1,2,3\n",
    "s1,s2 = 0.2,1\n",
    "\n",
    "plt.rcParams[\"figure.figsize\"] = [10.00, 5.00]\n",
    "plt.rcParams[\"figure.autolayout\"] = True\n",
    "fig = plt.figure()\n",
    "ax = fig.add_subplot(111,projection='3d')\n",
    "\n",
    "v,u = np.mgrid[-0.5*np.pi:0.5 * np.pi:100j, -1*np.pi:1*np.pi:100j]\n",
    "x = (np.cos(u)**s2 * (np.abs(np.sin(v)))**s1)*a\n",
    "y = (np.sin(u)**s2 * (np.abs(np.sin(v)))**s1)*b\n",
    "z = ((np.abs(np.cos(v)))**s1)*c\n",
    "ax.plot_surface(x, y,z,  alpha = 1, rstride=1, cstride=1, cmap=\"cool\", linewidth=0.5, antialiased=True, zorder = 0.3)\n",
    "ax.plot_surface(-x, y,z,  alpha = 1, rstride=1, cstride=1, cmap=\"cool\",linewidth=0.5, antialiased=True, zorder = 0.3)\n",
    "ax.plot_surface(x, -y,-z,  alpha = 1, rstride=1, cstride=1, cmap=\"cool\",linewidth=0.5, antialiased=True, zorder = 0.3)\n",
    "ax.plot_surface(x, y,-z,  alpha = 1, rstride=1, cstride=1, cmap=\"cool\",linewidth=0.5, antialiased=True, zorder = 0.3)\n",
    "\n",
    "ax.view_init(20,10)\n",
    "plt.show()\n",
    "\n",
    "plt.rcParams[\"figure.figsize\"] = [10.00, 5.00]\n",
    "plt.rcParams[\"figure.autolayout\"] = True\n",
    "fig = plt.figure()\n",
    "ax = fig.add_subplot(111,projection='3d')\n",
    "\n",
    "v,u = np.mgrid[-0.5*np.pi:0.5 * np.pi:100j, -1*np.pi:1*np.pi:100j]\n",
    "x = (np.cos(u)**s2 * (np.abs(np.sin(v)))**s1)*a\n",
    "y = (np.sin(u)**s2 * (np.abs(np.sin(v)))**s1)*b\n",
    "z = ((np.abs(np.cos(v)))**s1)*c\n",
    "\n",
    "ax.plot_surface(x, y,z,  alpha = 1, rstride=1, cstride=1, cmap=\"cool\", linewidth=0.5, antialiased=True, zorder = 0.3)\n",
    "ax.plot_surface(-x, y,z,  alpha = 1, rstride=1, cstride=1, cmap=\"cool\",linewidth=0.5, antialiased=True, zorder = 0.3)\n",
    "ax.plot_surface(x, -y,-z,  alpha = 1, rstride=1, cstride=1, cmap=\"cool\",linewidth=0.5, antialiased=True, zorder = 0.3)\n",
    "ax.plot_surface(x, y,-z,  alpha = 1, rstride=1, cstride=1, cmap=\"cool\",linewidth=0.5, antialiased=True, zorder = 0.3)\n",
    "\n",
    "ax.view_init(0,60)\n",
    "plt.show()"
   ]
  }
 ],
 "metadata": {
  "kernelspec": {
   "display_name": "Python 3",
   "language": "python",
   "name": "python3"
  },
  "language_info": {
   "codemirror_mode": {
    "name": "ipython",
    "version": 3
   },
   "file_extension": ".py",
   "mimetype": "text/x-python",
   "name": "python",
   "nbconvert_exporter": "python",
   "pygments_lexer": "ipython3",
   "version": "3.8.5"
  }
 },
 "nbformat": 4,
 "nbformat_minor": 2
}
